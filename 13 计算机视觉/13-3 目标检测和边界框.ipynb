{
 "cells": [
  {
   "cell_type": "code",
   "execution_count": null,
   "id": "initial_id",
   "metadata": {
    "collapsed": true
   },
   "outputs": [],
   "source": [
    "%matplotlib inline\n",
    "import torch\n",
    "import tools as tl"
   ]
  },
  {
   "cell_type": "code",
   "execution_count": null,
   "id": "f1ceb587",
   "metadata": {},
   "outputs": [],
   "source": [
    "tl.set_figsize()\n",
    "img = tl.plt.imread('../data/catdog.png')\n",
    "tl.plt.imshow(img)\n",
    "tl.plt.show()"
   ]
  },
  {
   "cell_type": "code",
   "execution_count": null,
   "id": "a04dda06",
   "metadata": {},
   "outputs": [],
   "source": [
    "dog_boxes, cat_boxes = [60.0, 45.0, 378.0, 516.0], [400.0, 112.0, 655.0, 493.0]\n",
    "boxes = torch.tensor((dog_boxes, cat_boxes))\n",
    "tl.box_center_to_corner(tl.box_corner_to_center(boxes)) == boxes"
   ]
  },
  {
   "cell_type": "code",
   "execution_count": null,
   "id": "e43d58d2",
   "metadata": {},
   "outputs": [],
   "source": [
    "fig = tl.plt.imshow(img)\n",
    "fig.axes.add_patch(tl.bbox_to_rect(dog_boxes, 'blue'))\n",
    "fig.axes.add_patch(tl.bbox_to_rect(cat_boxes, 'red'))"
   ]
  }
 ],
 "metadata": {
  "kernelspec": {
   "display_name": "dl-gpu",
   "language": "python",
   "name": "python3"
  },
  "language_info": {
   "codemirror_mode": {
    "name": "ipython",
    "version": 2
   },
   "file_extension": ".py",
   "mimetype": "text/x-python",
   "name": "python",
   "nbconvert_exporter": "python",
   "pygments_lexer": "ipython2",
   "version": "3.10.15"
  }
 },
 "nbformat": 4,
 "nbformat_minor": 5
}
