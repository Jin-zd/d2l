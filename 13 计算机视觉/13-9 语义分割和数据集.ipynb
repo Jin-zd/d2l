{
 "cells": [
  {
   "cell_type": "code",
   "id": "initial_id",
   "metadata": {
    "collapsed": true
   },
   "source": [
    "%matplotlib inline\n",
    "import tools as tl\n",
    "import torch"
   ],
   "outputs": [],
   "execution_count": null
  },
  {
   "metadata": {},
   "cell_type": "code",
   "source": "voc_dir = tl.download_extract('voc2012', 'VOCdevkit/VOC2012')",
   "id": "1c0effb67bb61acf",
   "outputs": [],
   "execution_count": null
  },
  {
   "metadata": {},
   "cell_type": "code",
   "source": "train_features, train_labels = tl.read_voc_images(voc_dir, is_train=True)",
   "id": "467ffe81e5d7a62e",
   "outputs": [],
   "execution_count": null
  },
  {
   "metadata": {},
   "cell_type": "code",
   "source": [
    "n = 5\n",
    "imgs = train_features[0:n] + train_labels[0:n]\n",
    "imgs = [imgs.permute(1, 2, 0) for imgs in imgs]\n",
    "tl.show_images(imgs, 2, n)\n",
    "tl.plt.show()"
   ],
   "id": "f3286719f233defd",
   "outputs": [],
   "execution_count": null
  },
  {
   "metadata": {},
   "cell_type": "code",
   "source": [
    "y = tl.voc_label_indices(train_labels[0], tl.voc_colormap2label())\n",
    "y[105:115, 130:140], tl.VOC_CLASSES[1]"
   ],
   "id": "c218e7c08d7d5b18",
   "outputs": [],
   "execution_count": null
  },
  {
   "metadata": {},
   "cell_type": "code",
   "source": [
    "imgs = []\n",
    "for _ in range(5):\n",
    "    imgs += tl.voc_rand_crop(train_features, train_labels, 200, 300)\n",
    "\n",
    "imgs = [imgs.permute(1, 2, 0) for imgs in imgs]\n",
    "tl.show_images(imgs[::2] + imgs[1::2], 2, n)\n",
    "tl.plt.show()"
   ],
   "id": "9855fa9d75f7bdf8",
   "outputs": [],
   "execution_count": null
  },
  {
   "metadata": {},
   "cell_type": "code",
   "source": [
    "crop_size = (320, 480)\n",
    "voc_train = tl.VOCSegDataset(True, crop_size, voc_dir)\n",
    "voc_test = tl.VOCSegDataset(False, crop_size, voc_dir)"
   ],
   "id": "2fb98dd4d07672fe",
   "outputs": [],
   "execution_count": null
  },
  {
   "metadata": {},
   "cell_type": "code",
   "source": [
    "batch_size = 64\n",
    "train_iter = torch.utils.data.DataLoader(voc_train, batch_size, shuffle=True, drop_last=True,\n",
    "                                         num_workers=tl.get_dataloader_workers())\n",
    "for X, Y in train_iter:\n",
    "    print(X.shape)\n",
    "    print(Y.shape)\n",
    "    break"
   ],
   "id": "37b179540125805f",
   "outputs": [],
   "execution_count": null
  },
  {
   "metadata": {},
   "cell_type": "code",
   "source": "",
   "id": "98b57e5775a78925",
   "outputs": [],
   "execution_count": null
  }
 ],
 "metadata": {
  "kernelspec": {
   "display_name": "Python 3",
   "language": "python",
   "name": "python3"
  },
  "language_info": {
   "codemirror_mode": {
    "name": "ipython",
    "version": 2
   },
   "file_extension": ".py",
   "mimetype": "text/x-python",
   "name": "python",
   "nbconvert_exporter": "python",
   "pygments_lexer": "ipython2",
   "version": "2.7.6"
  }
 },
 "nbformat": 4,
 "nbformat_minor": 5
}
