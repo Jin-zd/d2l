{
 "cells": [
  {
   "cell_type": "code",
   "metadata": {
    "ExecuteTime": {
     "end_time": "2024-08-24T07:57:39.212285Z",
     "start_time": "2024-08-24T07:57:36.297236Z"
    }
   },
   "source": [
    "import torch\n",
    "from torch.utils import data\n",
    "from torch import nn"
   ],
   "outputs": [],
   "execution_count": 1
  },
  {
   "cell_type": "code",
   "metadata": {
    "ExecuteTime": {
     "end_time": "2024-08-24T07:57:39.227379Z",
     "start_time": "2024-08-24T07:57:39.218340Z"
    }
   },
   "source": [
    "# 数据生成\n",
    "def synthetic_data(w, b, num_examples):\n",
    "    X = torch.normal(0, 1, (num_examples, len(w)))\n",
    "    y = torch.matmul(X, w) + b\n",
    "    y += torch.normal(0, 0.01, y.shape)\n",
    "    return X, y.reshape((-1, 1))"
   ],
   "outputs": [],
   "execution_count": 2
  },
  {
   "cell_type": "code",
   "metadata": {
    "ExecuteTime": {
     "end_time": "2024-08-24T07:57:39.448205Z",
     "start_time": "2024-08-24T07:57:39.433141Z"
    }
   },
   "source": [
    "true_w = torch.tensor([2, -3.4])\n",
    "true_b = 4.2\n",
    "features, labels = synthetic_data(true_w, true_b, 1000) "
   ],
   "outputs": [],
   "execution_count": 3
  },
  {
   "cell_type": "code",
   "metadata": {
    "ExecuteTime": {
     "end_time": "2024-08-24T07:57:39.494543Z",
     "start_time": "2024-08-24T07:57:39.479818Z"
    }
   },
   "source": [
    "def load_array(data_array, batch_size, is_train=True):\n",
    "    dataset = data.TensorDataset(*data_array)\n",
    "    return data.DataLoader(dataset, batch_size, shuffle=is_train) "
   ],
   "outputs": [],
   "execution_count": 4
  },
  {
   "cell_type": "code",
   "metadata": {
    "ExecuteTime": {
     "end_time": "2024-08-24T07:57:39.540801Z",
     "start_time": "2024-08-24T07:57:39.526888Z"
    }
   },
   "source": [
    "batch_size = 10\n",
    "data_iter = load_array((features, labels), batch_size)"
   ],
   "outputs": [],
   "execution_count": 5
  },
  {
   "cell_type": "code",
   "metadata": {
    "ExecuteTime": {
     "end_time": "2024-08-24T07:57:39.588104Z",
     "start_time": "2024-08-24T07:57:39.573834Z"
    }
   },
   "source": [
    "next(iter(data_iter))"
   ],
   "outputs": [
    {
     "data": {
      "text/plain": [
       "[tensor([[ 2.6322, -1.2193],\n",
       "         [-0.6052,  0.6150],\n",
       "         [-1.0691, -0.4516],\n",
       "         [-1.3916, -0.3551],\n",
       "         [ 0.0483,  1.0666],\n",
       "         [-0.1042,  0.4292],\n",
       "         [ 0.5324,  0.1303],\n",
       "         [-0.8672,  2.0657],\n",
       "         [-0.8870,  0.1801],\n",
       "         [-0.4080,  0.4276]]),\n",
       " tensor([[13.6105],\n",
       "         [ 0.8988],\n",
       "         [ 3.6027],\n",
       "         [ 2.6204],\n",
       "         [ 0.6633],\n",
       "         [ 2.5301],\n",
       "         [ 4.8240],\n",
       "         [-4.5486],\n",
       "         [ 1.8083],\n",
       "         [ 1.9549]])]"
      ]
     },
     "execution_count": 6,
     "metadata": {},
     "output_type": "execute_result"
    }
   ],
   "execution_count": 6
  },
  {
   "cell_type": "code",
   "metadata": {
    "ExecuteTime": {
     "end_time": "2024-08-24T07:57:39.681348Z",
     "start_time": "2024-08-24T07:57:39.671727Z"
    }
   },
   "source": [
    "net = nn.Sequential(nn.Linear(2, 1))"
   ],
   "outputs": [],
   "execution_count": 7
  },
  {
   "cell_type": "code",
   "metadata": {
    "ExecuteTime": {
     "end_time": "2024-08-24T07:57:39.712347Z",
     "start_time": "2024-08-24T07:57:39.698347Z"
    }
   },
   "source": [
    "net[0].weight.data.normal_(0, 0.01)\n",
    "net[0].bias.data.fill_(0)"
   ],
   "outputs": [
    {
     "data": {
      "text/plain": [
       "tensor([0.])"
      ]
     },
     "execution_count": 8,
     "metadata": {},
     "output_type": "execute_result"
    }
   ],
   "execution_count": 8
  },
  {
   "cell_type": "code",
   "metadata": {
    "ExecuteTime": {
     "end_time": "2024-08-24T07:57:39.759694Z",
     "start_time": "2024-08-24T07:57:39.744604Z"
    }
   },
   "source": [
    "loss = nn.MSELoss()"
   ],
   "outputs": [],
   "execution_count": 9
  },
  {
   "cell_type": "code",
   "metadata": {
    "ExecuteTime": {
     "end_time": "2024-08-24T07:57:39.806801Z",
     "start_time": "2024-08-24T07:57:39.791610Z"
    }
   },
   "source": [
    "trainer = torch.optim.SGD(net.parameters(), lr=0.03)"
   ],
   "outputs": [],
   "execution_count": 10
  },
  {
   "cell_type": "code",
   "metadata": {
    "ExecuteTime": {
     "end_time": "2024-08-24T07:57:39.947621Z",
     "start_time": "2024-08-24T07:57:39.839673Z"
    }
   },
   "source": [
    "num_epochs = 3\n",
    "for epoch in range(num_epochs):\n",
    "    for X, y in data_iter:\n",
    "        l = loss(net(X), y)\n",
    "        trainer.zero_grad()\n",
    "        l.backward()\n",
    "        trainer.step()\n",
    "    l = loss(net(features), labels)\n",
    "    print(f'epoch {epoch + 1}, loss {l:f}')"
   ],
   "outputs": [
    {
     "name": "stdout",
     "output_type": "stream",
     "text": [
      "epoch 1, loss 0.000259\n",
      "epoch 2, loss 0.000105\n",
      "epoch 3, loss 0.000105\n"
     ]
    }
   ],
   "execution_count": 11
  }
 ],
 "metadata": {
  "kernelspec": {
   "display_name": "d2l",
   "language": "python",
   "name": "python3"
  },
  "language_info": {
   "codemirror_mode": {
    "name": "ipython",
    "version": 3
   },
   "file_extension": ".py",
   "mimetype": "text/x-python",
   "name": "python",
   "nbconvert_exporter": "python",
   "pygments_lexer": "ipython3",
   "version": "3.9.19"
  }
 },
 "nbformat": 4,
 "nbformat_minor": 2
}
