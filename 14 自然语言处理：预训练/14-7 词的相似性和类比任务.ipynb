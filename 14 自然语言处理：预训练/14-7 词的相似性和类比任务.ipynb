{
 "cells": [
  {
   "cell_type": "code",
   "id": "initial_id",
   "metadata": {
    "collapsed": true,
    "ExecuteTime": {
     "end_time": "2024-09-18T09:33:31.275774Z",
     "start_time": "2024-09-18T09:33:31.266778Z"
    }
   },
   "source": [
    "import torch\n",
    "import tools as tl"
   ],
   "outputs": [],
   "execution_count": 15
  },
  {
   "cell_type": "code",
   "source": [
    "glove_6b50d = tl.TokenEmbedding('glove.6b.50d')"
   ],
   "metadata": {
    "collapsed": false,
    "ExecuteTime": {
     "end_time": "2024-09-18T09:33:38.812437Z",
     "start_time": "2024-09-18T09:33:31.293778Z"
    }
   },
   "id": "bd1be5b461fbfa40",
   "outputs": [],
   "execution_count": 16
  },
  {
   "cell_type": "code",
   "source": [
    "len(glove_6b50d)"
   ],
   "metadata": {
    "collapsed": false,
    "ExecuteTime": {
     "end_time": "2024-09-18T09:33:38.842420Z",
     "start_time": "2024-09-18T09:33:38.829422Z"
    }
   },
   "id": "e410e7ecf68ad668",
   "outputs": [
    {
     "data": {
      "text/plain": [
       "400001"
      ]
     },
     "execution_count": 17,
     "metadata": {},
     "output_type": "execute_result"
    }
   ],
   "execution_count": 17
  },
  {
   "cell_type": "code",
   "source": [
    "glove_6b50d.token_to_idx['beautiful'], glove_6b50d.idx_to_token[3367]"
   ],
   "metadata": {
    "collapsed": false,
    "ExecuteTime": {
     "end_time": "2024-09-18T09:33:38.953663Z",
     "start_time": "2024-09-18T09:33:38.934656Z"
    }
   },
   "id": "ba9ccb79a7d52560",
   "outputs": [
    {
     "data": {
      "text/plain": [
       "(3367, 'beautiful')"
      ]
     },
     "execution_count": 18,
     "metadata": {},
     "output_type": "execute_result"
    }
   ],
   "execution_count": 18
  },
  {
   "cell_type": "code",
   "source": [
    "def knn(W, x, k):\n",
    "    cos = torch.matmul(W, x.view(-1,)) / (\n",
    "        (torch.sum(W * W, dim=1) + 1e-9).sqrt() * torch.sqrt(x * x).sum())\n",
    "    _, topk = torch.topk(cos, k=k)\n",
    "    return topk, [cos[int(i)] for i in topk]"
   ],
   "metadata": {
    "collapsed": false,
    "ExecuteTime": {
     "end_time": "2024-09-18T09:33:39.049177Z",
     "start_time": "2024-09-18T09:33:39.032177Z"
    }
   },
   "id": "f74d2c49696af949",
   "outputs": [],
   "execution_count": 19
  },
  {
   "cell_type": "code",
   "source": [
    "def get_similar_tokens(query_token, k, embed):\n",
    "    topk, cos = knn(embed.idx_to_vec, embed[[query_token]], k+1)\n",
    "    for i, c in zip(topk[1:], cos[1:]):\n",
    "        print(f'{embed.idx_to_token[int(i)]}: cosine similarity: {float(c):.3f}')"
   ],
   "metadata": {
    "collapsed": false,
    "ExecuteTime": {
     "end_time": "2024-09-18T09:33:39.080698Z",
     "start_time": "2024-09-18T09:33:39.067185Z"
    }
   },
   "id": "7a279dccd00a84c2",
   "outputs": [],
   "execution_count": 20
  },
  {
   "cell_type": "code",
   "source": [
    "get_similar_tokens('chip', 3, glove_6b50d)"
   ],
   "metadata": {
    "collapsed": false,
    "ExecuteTime": {
     "end_time": "2024-09-18T09:33:39.128697Z",
     "start_time": "2024-09-18T09:33:39.098698Z"
    }
   },
   "id": "9c4d41b5486fa988",
   "outputs": [
    {
     "name": "stdout",
     "output_type": "stream",
     "text": [
      "chips: cosine similarity: 0.150\n",
      "intel: cosine similarity: 0.131\n",
      "electronics: cosine similarity: 0.131\n"
     ]
    }
   ],
   "execution_count": 21
  },
  {
   "cell_type": "code",
   "source": [
    "get_similar_tokens('baby', 3, glove_6b50d)"
   ],
   "metadata": {
    "collapsed": false,
    "ExecuteTime": {
     "end_time": "2024-09-18T09:33:39.302759Z",
     "start_time": "2024-09-18T09:33:39.250230Z"
    }
   },
   "id": "156f8d3f2b72cbd8",
   "outputs": [
    {
     "name": "stdout",
     "output_type": "stream",
     "text": [
      "babies: cosine similarity: 0.148\n",
      "boy: cosine similarity: 0.141\n",
      "girl: cosine similarity: 0.139\n"
     ]
    }
   ],
   "execution_count": 22
  },
  {
   "cell_type": "code",
   "source": [
    "get_similar_tokens('beautiful', 3, glove_6b50d)"
   ],
   "metadata": {
    "collapsed": false,
    "ExecuteTime": {
     "end_time": "2024-09-18T09:33:39.428277Z",
     "start_time": "2024-09-18T09:33:39.386279Z"
    }
   },
   "id": "abb917802ed2b465",
   "outputs": [
    {
     "name": "stdout",
     "output_type": "stream",
     "text": [
      "lovely: cosine similarity: 0.174\n",
      "gorgeous: cosine similarity: 0.169\n",
      "wonderful: cosine similarity: 0.157\n"
     ]
    }
   ],
   "execution_count": 23
  },
  {
   "cell_type": "code",
   "source": [
    "def get_analogy(token_a, token_b, token_c, embed):\n",
    "    vecs = embed[[token_a, token_b, token_c]]\n",
    "    x = vecs[1] - vecs[0] + vecs[2]\n",
    "    topk, cos = knn(embed.idx_to_vec, x, 1)\n",
    "    return embed.idx_to_token[int(topk[0])]"
   ],
   "metadata": {
    "collapsed": false,
    "ExecuteTime": {
     "end_time": "2024-09-18T09:33:39.475797Z",
     "start_time": "2024-09-18T09:33:39.465287Z"
    }
   },
   "id": "f7f92f439aa8dae9",
   "outputs": [],
   "execution_count": 24
  },
  {
   "cell_type": "code",
   "source": [
    "get_analogy('man', 'woman', 'son', glove_6b50d)"
   ],
   "metadata": {
    "collapsed": false,
    "ExecuteTime": {
     "end_time": "2024-09-18T09:33:39.539800Z",
     "start_time": "2024-09-18T09:33:39.494803Z"
    }
   },
   "id": "715c9969e9635cf4",
   "outputs": [
    {
     "data": {
      "text/plain": [
       "'daughter'"
      ]
     },
     "execution_count": 25,
     "metadata": {},
     "output_type": "execute_result"
    }
   ],
   "execution_count": 25
  },
  {
   "cell_type": "code",
   "source": [
    "get_analogy('beijing', 'china', 'tokyo', glove_6b50d)"
   ],
   "metadata": {
    "collapsed": false,
    "ExecuteTime": {
     "end_time": "2024-09-18T09:33:39.603326Z",
     "start_time": "2024-09-18T09:33:39.567315Z"
    }
   },
   "id": "1b82d81f64e2073d",
   "outputs": [
    {
     "data": {
      "text/plain": [
       "'japan'"
      ]
     },
     "execution_count": 26,
     "metadata": {},
     "output_type": "execute_result"
    }
   ],
   "execution_count": 26
  },
  {
   "cell_type": "code",
   "source": [
    "get_analogy('bad', 'worst', 'big', glove_6b50d)"
   ],
   "metadata": {
    "collapsed": false,
    "ExecuteTime": {
     "end_time": "2024-09-18T09:33:39.666330Z",
     "start_time": "2024-09-18T09:33:39.624325Z"
    }
   },
   "id": "d824a40b1c9899a4",
   "outputs": [
    {
     "data": {
      "text/plain": [
       "'biggest'"
      ]
     },
     "execution_count": 27,
     "metadata": {},
     "output_type": "execute_result"
    }
   ],
   "execution_count": 27
  },
  {
   "cell_type": "code",
   "source": [
    "get_analogy('do', 'did', 'go', glove_6b50d)"
   ],
   "metadata": {
    "collapsed": false,
    "ExecuteTime": {
     "end_time": "2024-09-18T09:33:39.727841Z",
     "start_time": "2024-09-18T09:33:39.697842Z"
    }
   },
   "id": "650699747a810aca",
   "outputs": [
    {
     "data": {
      "text/plain": [
       "'went'"
      ]
     },
     "execution_count": 28,
     "metadata": {},
     "output_type": "execute_result"
    }
   ],
   "execution_count": 28
  }
 ],
 "metadata": {
  "kernelspec": {
   "display_name": "Python 3",
   "language": "python",
   "name": "python3"
  },
  "language_info": {
   "codemirror_mode": {
    "name": "ipython",
    "version": 2
   },
   "file_extension": ".py",
   "mimetype": "text/x-python",
   "name": "python",
   "nbconvert_exporter": "python",
   "pygments_lexer": "ipython2",
   "version": "2.7.6"
  }
 },
 "nbformat": 4,
 "nbformat_minor": 5
}
